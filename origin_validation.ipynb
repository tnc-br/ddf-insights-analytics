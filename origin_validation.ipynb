{
  "nbformat": 4,
  "nbformat_minor": 0,
  "metadata": {
    "colab": {
      "provenance": [],
      "include_colab_link": true
    },
    "kernelspec": {
      "name": "python3",
      "display_name": "Python 3"
    },
    "language_info": {
      "name": "python"
    }
  },
  "cells": [
    {
      "cell_type": "markdown",
      "metadata": {
        "id": "view-in-github",
        "colab_type": "text"
      },
      "source": [
        "<a href=\"https://colab.research.google.com/github/tnc-br/ddf-insights-analytics/blob/main/fraud_detection_enhancement.ipynb\" target=\"_parent\"><img src=\"https://colab.research.google.com/assets/colab-badge.svg\" alt=\"Open In Colab\"/></a>"
      ]
    },
    {
      "cell_type": "markdown",
      "source": [
        "**Meta Data and Parameters**"
      ],
      "metadata": {
        "id": "rkloPz7e98bx"
      }
    },
    {
      "cell_type": "code",
      "source": [
        "lat = -9\n",
        "lon = -40\n",
        "oxygen_measurements = [32,33,34]\n",
        "nitrogen_measurements = [22,23,24]\n",
        "carbon_measurements = [-20,-21,-23]"
      ],
      "metadata": {
        "id": "dCoa0gCn-Bwu"
      },
      "execution_count": 35,
      "outputs": []
    },
    {
      "cell_type": "markdown",
      "source": [
        "Requirements"
      ],
      "metadata": {
        "id": "pNXXIB1U-CEP"
      }
    },
    {
      "cell_type": "code",
      "execution_count": 3,
      "metadata": {
        "id": "bae8s2QJWQff",
        "outputId": "92ddf4ae-8023-4185-c1ac-c09a29eb5a64",
        "colab": {
          "base_uri": "https://localhost:8080/"
        }
      },
      "outputs": [
        {
          "output_type": "stream",
          "name": "stdout",
          "text": [
            "Installing collected packages: pyperclip, colour, xyzservices, traittypes, scooby, ratelim, python-box, pyshp, jedi, geocoder, eerepr, ipytree, ipyleaflet, ipyfilechooser, ipyevents, bqplot, geemap\n",
            "Successfully installed bqplot-0.12.40 colour-0.1.5 eerepr-0.0.4 geemap-0.24.4 geocoder-1.38.1 ipyevents-2.0.1 ipyfilechooser-0.6.0 ipyleaflet-0.17.3 ipytree-0.2.2 jedi-0.18.2 pyperclip-1.8.2 pyshp-2.3.1 python-box-7.0.1 ratelim-0.1.6 scooby-0.7.2 traittypes-0.2.1 xyzservices-2023.7.0\n"
          ]
        }
      ],
      "source": [
        "#Install requirements\n"
      ]
    },
    {
      "cell_type": "markdown",
      "source": [
        "Libraries"
      ],
      "metadata": {
        "id": "C52pgdu3dcTQ"
      }
    },
    {
      "cell_type": "code",
      "source": [
        "#Import Libraries\n",
        "import ee\n",
        "import os\n",
        "import numpy as np\n",
        "import scipy\n"
      ],
      "metadata": {
        "id": "5RjFtU7ddagK"
      },
      "execution_count": 52,
      "outputs": []
    },
    {
      "cell_type": "markdown",
      "source": [
        "Authentication and Authorization"
      ],
      "metadata": {
        "id": "3Z0eMms1hx8d"
      }
    },
    {
      "cell_type": "code",
      "source": [
        "#Authenticate\n",
        "if os.path.isfile('key.json') :\n",
        "\n",
        "    # connection to the service account\n",
        "    service_account = 'fraud-detection-pipeline-sa@kazob-370920.iam.gserviceaccount.com'\n",
        "    credentials = ee.ServiceAccountCredentials(service_account, 'key.json')\n",
        "    ee.Initialize(credentials)\n",
        "    print('initialized with key')\n",
        "\n",
        "# if in local env use the local user credential\n",
        "else:\n",
        "    ee.Initialize()"
      ],
      "metadata": {
        "colab": {
          "base_uri": "https://localhost:8080/"
        },
        "id": "vbTjIOs1hqbd",
        "outputId": "39387f99-d974-4496-a086-476ff7905dc2"
      },
      "execution_count": 2,
      "outputs": [
        {
          "output_type": "stream",
          "name": "stdout",
          "text": [
            "initialized with key\n"
          ]
        }
      ]
    },
    {
      "cell_type": "markdown",
      "source": [
        "Global Variable definition"
      ],
      "metadata": {
        "id": "O8mJG-sRsf52"
      }
    },
    {
      "cell_type": "code",
      "source": [
        "isoscapes_ee_path = 'users/kazob/isoscapes'"
      ],
      "metadata": {
        "id": "tESIfBxBiG45"
      },
      "execution_count": null,
      "outputs": []
    },
    {
      "cell_type": "markdown",
      "source": [
        "Datasets"
      ],
      "metadata": {
        "id": "eCgPZbBrh_TY"
      }
    },
    {
      "cell_type": "code",
      "source": [
        "# brazil_bounds = ee.FeatureCollection('FAO/GAUL/2015/level1').filter(ee.Filter.eq('ADM0_NAME', 'Brazil'))\n",
        "# Map.addLayer(brazil_bounds, {}, 'Brazil')\n",
        "# Map.centerObject(brazil_bounds,4)"
      ],
      "metadata": {
        "id": "skg1O-pwiD89"
      },
      "execution_count": null,
      "outputs": []
    },
    {
      "cell_type": "markdown",
      "source": [
        "Code"
      ],
      "metadata": {
        "id": "HOl1eh0jiFA2"
      }
    },
    {
      "cell_type": "code",
      "source": [],
      "metadata": {
        "id": "usBFHRgB-QBQ"
      },
      "execution_count": 12,
      "outputs": []
    },
    {
      "cell_type": "markdown",
      "source": [
        "fetching isoscapes"
      ],
      "metadata": {
        "id": "ZKm9VB_wCId7"
      }
    },
    {
      "cell_type": "code",
      "source": [
        "parent_asset = ee.data.getAsset(isoscapes_ee_path)\n",
        "parent_id = parent_asset['name']\n",
        "parent_type = parent_asset['type']\n",
        "asset_list = []\n",
        "child_assets = ee.data.listAssets({'parent': parent_id})['assets']\n",
        "for child_asset in child_assets:\n",
        "    child_id = child_asset['name']\n",
        "    child_type = child_asset['type']\n",
        "    if child_type in ['FOLDER','IMAGE_COLLECTION']:\n",
        "        # Recursively call the function to get child assets\n",
        "        asset_list.extend(get_asset_list(child_id))\n",
        "    else:\n",
        "        asset_list.append(child_id)\n",
        "asset_list"
      ],
      "metadata": {
        "id": "kcDfVhOvAgpN",
        "outputId": "8135d397-0a7a-4dc9-d4e0-02770b5057fa",
        "colab": {
          "base_uri": "https://localhost:8080/"
        }
      },
      "execution_count": 13,
      "outputs": [
        {
          "output_type": "execute_result",
          "data": {
            "text/plain": [
              "['projects/earthengine-legacy/assets/users/kazob/isoscapes/xgb_means_oxygen_isoscape',\n",
              " 'projects/earthengine-legacy/assets/users/kazob/isoscapes/xgb_variances_oxygen_isoscape']"
            ]
          },
          "metadata": {},
          "execution_count": 13
        }
      ]
    },
    {
      "cell_type": "code",
      "source": [
        "for asset in asset_list:\n",
        "  if ('oxygen' in asset) and ('mean' in asset):\n",
        "    oxygen_means_iso = ee.Image(asset)\n",
        "  elif 'oxygen' in asset and 'variance' in asset:\n",
        "    oxygen_variances_iso = ee.Image(asset)\n",
        "  elif 'd13C' in asset:\n",
        "    carbon_variances_iso = ee.Image(asset).select('B0')\n",
        "    carbon_means_iso = ee.Image(asset).select('B1')\n"
      ],
      "metadata": {
        "id": "Y7RqVd8sEGcG"
      },
      "execution_count": 26,
      "outputs": []
    },
    {
      "cell_type": "markdown",
      "source": [
        "POI definition"
      ],
      "metadata": {
        "id": "rjDrrwTpCdW-"
      }
    },
    {
      "cell_type": "code",
      "source": [
        "poi = ee.Geometry.Point(lon,lat)"
      ],
      "metadata": {
        "id": "3ydB0IMgEb_4"
      },
      "execution_count": 56,
      "outputs": []
    },
    {
      "cell_type": "markdown",
      "source": [
        "***Oxygen***"
      ],
      "metadata": {
        "id": "RR7av0qdUZOD"
      }
    },
    {
      "cell_type": "markdown",
      "source": [
        "Isoscape"
      ],
      "metadata": {
        "id": "CaKTkP1SVLIL"
      }
    },
    {
      "cell_type": "code",
      "source": [
        "isoscape_mean = oxygen_means_iso.reduceRegion(\n",
        "  reducer = ee.Reducer.mean(),\n",
        "  geometry = poi,\n",
        "  scale = 30).getInfo().get('b1');\n",
        "isoscape_var = oxygen_variances_iso.reduceRegion(\n",
        "  reducer = ee.Reducer.mean(),\n",
        "  geometry = poi,\n",
        "  scale = 30).getInfo().get('b1');\n",
        "if isoscape_var is not None:\n",
        "  isoscape_std = np.sqrt(isoscape_var)\n",
        "else:\n",
        "  isoscape_std = 0"
      ],
      "metadata": {
        "id": "9SJUcf5cU4pV"
      },
      "execution_count": null,
      "outputs": []
    },
    {
      "cell_type": "markdown",
      "source": [
        "Isotope calculation"
      ],
      "metadata": {
        "id": "_kw3db8mMqq9"
      }
    },
    {
      "cell_type": "code",
      "source": [
        "isotope_mean = np.mean(oxygen_measurements)\n",
        "isotope_std = np.std(oxygen_measurements)\n",
        "print(isotope_mean,isotope_std, isoscape_mean, isoscape_std)\n",
        "\n"
      ],
      "metadata": {
        "colab": {
          "base_uri": "https://localhost:8080/"
        },
        "id": "tREgKQFdHAaS",
        "outputId": "99f89fdf-5b00-4ad4-a444-24daa26d02f9"
      },
      "execution_count": 57,
      "outputs": [
        {
          "output_type": "stream",
          "name": "stdout",
          "text": [
            "33.0 0.816496580927726 43.059565734863284 0.6551787351470115\n"
          ]
        }
      ]
    },
    {
      "cell_type": "markdown",
      "source": [
        "ttest and p-value"
      ],
      "metadata": {
        "id": "UQ6KIx6hN8R2"
      }
    },
    {
      "cell_type": "code",
      "source": [
        "_, p_value_oxygen = scipy.stats.ttest_ind_from_stats(\n",
        "            isotope_mean, isotope_std, len(oxygen_measurements), isoscape_mean, isoscape_std, 30, equal_var=False, alternative=\"two-sided\")"
      ],
      "metadata": {
        "id": "swXenCClN_b3"
      },
      "execution_count": 68,
      "outputs": []
    },
    {
      "cell_type": "markdown",
      "source": [
        "**Carbon**"
      ],
      "metadata": {
        "id": "L39XRh5EVFoB"
      }
    },
    {
      "cell_type": "markdown",
      "source": [
        "Isoscape"
      ],
      "metadata": {
        "id": "EoXKxnEQVOjL"
      }
    },
    {
      "cell_type": "code",
      "source": [
        "#delete\n",
        "carbon_means_iso = oxygen_means_iso\n",
        "carbon_variances_iso = oxygen_variances_iso\n",
        "#delete\n",
        "\n",
        "isoscape_mean = carbon_means_iso.reduceRegion(\n",
        "  reducer = ee.Reducer.mean(),\n",
        "  geometry = poi,\n",
        "  scale = 30).getInfo().get('b1');\n",
        "isoscape_var = carbon_variances_iso.reduceRegion(\n",
        "  reducer = ee.Reducer.mean(),\n",
        "  geometry = poi,\n",
        "  scale = 30).getInfo().get('b1');\n",
        "if isoscape_var is not None:\n",
        "  isoscape_std = np.sqrt(isoscape_var)\n",
        "else:\n",
        "  isoscape_std = 0"
      ],
      "metadata": {
        "id": "VOQhS8GxVTao"
      },
      "execution_count": 60,
      "outputs": []
    },
    {
      "cell_type": "markdown",
      "source": [
        "Isotope calculation"
      ],
      "metadata": {
        "id": "_14AQ8fNdn0U"
      }
    },
    {
      "cell_type": "code",
      "source": [
        "isotope_mean = np.mean(carbon_measurements)\n",
        "isotope_std = np.std(carbon_measurements)\n",
        "print(isotope_mean,isotope_std, isoscape_mean, isoscape_std)\n",
        "\n"
      ],
      "metadata": {
        "outputId": "230e6c3d-3099-4ff5-dea9-e4cb36cd701b",
        "colab": {
          "base_uri": "https://localhost:8080/"
        },
        "id": "AGPSrytsdn0f"
      },
      "execution_count": 61,
      "outputs": [
        {
          "output_type": "stream",
          "name": "stdout",
          "text": [
            "-21.333333333333332 1.247219128924647 43.059565734863284 0.6551787351470115\n"
          ]
        }
      ]
    },
    {
      "cell_type": "markdown",
      "source": [
        "ttest and p-value"
      ],
      "metadata": {
        "id": "QkeKwSg8dn0f"
      }
    },
    {
      "cell_type": "code",
      "source": [
        "_, p_value_carbon = scipy.stats.ttest_ind_from_stats(\n",
        "            isotope_mean, isotope_std, len(carbon_measurements), isoscape_mean, isoscape_std, 30, equal_var=False, alternative=\"two-sided\")"
      ],
      "metadata": {
        "id": "00QrbXVedn0f"
      },
      "execution_count": 67,
      "outputs": []
    },
    {
      "cell_type": "markdown",
      "source": [
        "**Nitrogen**"
      ],
      "metadata": {
        "id": "r51E7T9GeTib"
      }
    },
    {
      "cell_type": "markdown",
      "source": [
        "Isoscape"
      ],
      "metadata": {
        "id": "BtvIkpUqeTib"
      }
    },
    {
      "cell_type": "code",
      "source": [
        "#delete\n",
        "nitrogen_means_iso = oxygen_means_iso\n",
        "nitrogen_variances_iso = oxygen_variances_iso\n",
        "#delete\n",
        "\n",
        "isoscape_mean = nitrogen_means_iso.reduceRegion(\n",
        "  reducer = ee.Reducer.mean(),\n",
        "  geometry = poi,\n",
        "  scale = 30).getInfo().get('b1');\n",
        "isoscape_var = nitrogen_variances_iso.reduceRegion(\n",
        "  reducer = ee.Reducer.mean(),\n",
        "  geometry = poi,\n",
        "  scale = 30).getInfo().get('b1');\n",
        "if isoscape_var is not None:\n",
        "  isoscape_std = np.sqrt(isoscape_var)\n",
        "else:\n",
        "  isoscape_std = 0"
      ],
      "metadata": {
        "id": "rmL1qSf_eTic"
      },
      "execution_count": 63,
      "outputs": []
    },
    {
      "cell_type": "markdown",
      "source": [
        "Isotope calculation"
      ],
      "metadata": {
        "id": "MZRIa-MTeTic"
      }
    },
    {
      "cell_type": "code",
      "source": [
        "isotope_mean = np.mean(carbon_measurements)\n",
        "isotope_std = np.std(carbon_measurements)\n",
        "print(isotope_mean,isotope_std, isoscape_mean, isoscape_std)\n",
        "\n"
      ],
      "metadata": {
        "outputId": "cd37aed1-3d74-4105-b127-e6628bc663b6",
        "colab": {
          "base_uri": "https://localhost:8080/"
        },
        "id": "BstXUs77eTij"
      },
      "execution_count": 64,
      "outputs": [
        {
          "output_type": "stream",
          "name": "stdout",
          "text": [
            "-21.333333333333332 1.247219128924647 43.059565734863284 0.6551787351470115\n"
          ]
        }
      ]
    },
    {
      "cell_type": "markdown",
      "source": [
        "ttest and p-value"
      ],
      "metadata": {
        "id": "iEo3ZvCCeTik"
      }
    },
    {
      "cell_type": "code",
      "source": [
        "_, p_value_nitrogen = scipy.stats.ttest_ind_from_stats(\n",
        "            isotope_mean, isotope_std, len(carbon_measurements), isoscape_mean, isoscape_std, 30, equal_var=False, alternative=\"two-sided\")"
      ],
      "metadata": {
        "id": "e6aed0l7eTik"
      },
      "execution_count": 65,
      "outputs": []
    },
    {
      "cell_type": "markdown",
      "source": [
        "Origin Verification"
      ],
      "metadata": {
        "id": "cx8dU5mPe1M8"
      }
    },
    {
      "cell_type": "code",
      "source": [
        "origin_validity = p_value_oxygen * p_value_carbon * p_value_nitrogen"
      ],
      "metadata": {
        "id": "TY7PeRSbe6ZW"
      },
      "execution_count": 69,
      "outputs": []
    }
  ]
}
