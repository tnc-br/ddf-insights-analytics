{
  "nbformat": 4,
  "nbformat_minor": 0,
  "metadata": {
    "colab": {
      "provenance": [],
      "include_colab_link": true
    },
    "kernelspec": {
      "name": "python3",
      "display_name": "Python 3"
    },
    "language_info": {
      "name": "python"
    },
    "widgets": {
      "application/vnd.jupyter.widget-state+json": {
        "e3b2dfc2c2804241965e653d6ea4b539": {
          "model_module": "jupyter-leaflet",
          "model_name": "LeafletMapModel",
          "model_module_version": "^0.17",
          "state": {
            "_dom_classes": [],
            "_model_module": "jupyter-leaflet",
            "_model_module_version": "^0.17",
            "_model_name": "LeafletMapModel",
            "_view_count": null,
            "_view_module": "jupyter-leaflet",
            "_view_module_version": "^0.17",
            "_view_name": "LeafletMapView",
            "bottom": 362,
            "bounce_at_zoom_limits": true,
            "box_zoom": true,
            "center": [
              67.60922060496382,
              616.6406250000001
            ],
            "close_popup_on_click": true,
            "controls": [
              "IPY_MODEL_bbff56a4a5a549af800ea729e16cb990",
              "IPY_MODEL_5a8779ef5e7044c7bcb2cf66ff9beb62",
              "IPY_MODEL_f06ef5b04c77450d877c4812e660c079",
              "IPY_MODEL_d662ad575e754c6ca816a4902f8d237d",
              "IPY_MODEL_d52ad0fdc90244e3a56d9b0c4ca4971d",
              "IPY_MODEL_ee5ae0b0d6c447d49cdb1e8d157e7ccd",
              "IPY_MODEL_6f132b4b91a6437f87b65b2bef6f1807",
              "IPY_MODEL_ea0b6a4df0824f15b66b2bb35aef15f8"
            ],
            "crs": {
              "name": "EPSG3857",
              "custom": false
            },
            "default_style": "IPY_MODEL_f2886124748f47cf94ce76ef9c5b6f6d",
            "double_click_zoom": true,
            "dragging": true,
            "dragging_style": "IPY_MODEL_b7542ff664a0450f99a9b3c600017ac2",
            "east": 1666.40625,
            "fullscreen": false,
            "inertia": true,
            "inertia_deceleration": 3000,
            "inertia_max_speed": 1500,
            "interpolation": "bilinear",
            "keyboard": true,
            "keyboard_pan_offset": 80,
            "keyboard_zoom_offset": 1,
            "layers": [
              "IPY_MODEL_537392d02e8547f395f72a1cedd0bc78",
              "IPY_MODEL_7b486f3cd95549a5bbddddf59434a532",
              "IPY_MODEL_af210ab96e994796b8632389376a4a81"
            ],
            "layout": "IPY_MODEL_5ca19b37347f43308579fe600ffb67ce",
            "left": -180,
            "max_zoom": 24,
            "min_zoom": null,
            "modisdate": "2023-07-16",
            "north": 89.98561569149237,
            "options": [
              "bounce_at_zoom_limits",
              "box_zoom",
              "center",
              "close_popup_on_click",
              "double_click_zoom",
              "dragging",
              "fullscreen",
              "inertia",
              "inertia_deceleration",
              "inertia_max_speed",
              "interpolation",
              "keyboard",
              "keyboard_pan_offset",
              "keyboard_zoom_offset",
              "max_zoom",
              "min_zoom",
              "prefer_canvas",
              "scroll_wheel_zoom",
              "tap",
              "tap_tolerance",
              "touch_zoom",
              "world_copy_jump",
              "zoom",
              "zoom_animation_threshold",
              "zoom_delta",
              "zoom_snap"
            ],
            "panes": {},
            "prefer_canvas": false,
            "right": 1313,
            "scroll_wheel_zoom": true,
            "south": -89.63280173566288,
            "style": "IPY_MODEL_f2886124748f47cf94ce76ef9c5b6f6d",
            "tap": true,
            "tap_tolerance": 15,
            "top": -238,
            "touch_zoom": true,
            "west": -433.12500000000006,
            "window_url": "https://4gi9u8mkrz9-496ff2e9c6d22116-0-colab.googleusercontent.com/outputframe.html?vrz=colab-20230717-060139-RC00_548647821",
            "world_copy_jump": false,
            "zoom": 0,
            "zoom_animation_threshold": 4,
            "zoom_delta": 1,
            "zoom_snap": 1
          }
        },
        "bbff56a4a5a549af800ea729e16cb990": {
          "model_module": "jupyter-leaflet",
          "model_name": "LeafletWidgetControlModel",
          "model_module_version": "^0.17",
          "state": {
            "_model_module": "jupyter-leaflet",
            "_model_module_version": "^0.17",
            "_model_name": "LeafletWidgetControlModel",
            "_view_count": null,
            "_view_module": "jupyter-leaflet",
            "_view_module_version": "^0.17",
            "_view_name": "LeafletWidgetControlView",
            "max_height": null,
            "max_width": null,
            "min_height": null,
            "min_width": null,
            "options": [
              "position",
              "transparent_bg"
            ],
            "position": "topleft",
            "transparent_bg": false,
            "widget": "IPY_MODEL_1d26d588a8d4495fb2721f7aaebfbd2a"
          }
        },
        "5a8779ef5e7044c7bcb2cf66ff9beb62": {
          "model_module": "jupyter-leaflet",
          "model_name": "LeafletZoomControlModel",
          "model_module_version": "^0.17",
          "state": {
            "_model_module": "jupyter-leaflet",
            "_model_module_version": "^0.17",
            "_model_name": "LeafletZoomControlModel",
            "_view_count": null,
            "_view_module": "jupyter-leaflet",
            "_view_module_version": "^0.17",
            "_view_name": "LeafletZoomControlView",
            "options": [
              "position",
              "zoom_in_text",
              "zoom_in_title",
              "zoom_out_text",
              "zoom_out_title"
            ],
            "position": "topleft",
            "zoom_in_text": "+",
            "zoom_in_title": "Zoom in",
            "zoom_out_text": "-",
            "zoom_out_title": "Zoom out"
          }
        },
        "f06ef5b04c77450d877c4812e660c079": {
          "model_module": "jupyter-leaflet",
          "model_name": "LeafletFullScreenControlModel",
          "model_module_version": "^0.17",
          "state": {
            "_model_module": "jupyter-leaflet",
            "_model_module_version": "^0.17",
            "_model_name": "LeafletFullScreenControlModel",
            "_view_count": null,
            "_view_module": "jupyter-leaflet",
            "_view_module_version": "^0.17",
            "_view_name": "LeafletFullScreenControlView",
            "options": [
              "position"
            ],
            "position": "topleft"
          }
        },
        "d662ad575e754c6ca816a4902f8d237d": {
          "model_module": "jupyter-leaflet",
          "model_name": "LeafletDrawControlModel",
          "model_module_version": "^0.17",
          "state": {
            "_model_module": "jupyter-leaflet",
            "_model_module_version": "^0.17",
            "_model_name": "LeafletDrawControlModel",
            "_view_count": null,
            "_view_module": "jupyter-leaflet",
            "_view_module_version": "^0.17",
            "_view_name": "LeafletDrawControlView",
            "circle": {},
            "circlemarker": {},
            "data": [],
            "edit": true,
            "marker": {
              "shapeOptions": {
                "color": "#3388ff"
              }
            },
            "options": [
              "position"
            ],
            "polygon": {
              "shapeOptions": {}
            },
            "polyline": {
              "shapeOptions": {}
            },
            "position": "topleft",
            "rectangle": {
              "shapeOptions": {
                "color": "#3388ff"
              }
            },
            "remove": true
          }
        },
        "d52ad0fdc90244e3a56d9b0c4ca4971d": {
          "model_module": "jupyter-leaflet",
          "model_name": "LeafletScaleControlModel",
          "model_module_version": "^0.17",
          "state": {
            "_model_module": "jupyter-leaflet",
            "_model_module_version": "^0.17",
            "_model_name": "LeafletScaleControlModel",
            "_view_count": null,
            "_view_module": "jupyter-leaflet",
            "_view_module_version": "^0.17",
            "_view_name": "LeafletScaleControlView",
            "imperial": true,
            "max_width": 100,
            "metric": true,
            "options": [
              "imperial",
              "max_width",
              "metric",
              "position",
              "update_when_idle"
            ],
            "position": "bottomleft",
            "update_when_idle": false
          }
        },
        "ee5ae0b0d6c447d49cdb1e8d157e7ccd": {
          "model_module": "jupyter-leaflet",
          "model_name": "LeafletMeasureControlModel",
          "model_module_version": "^0.17",
          "state": {
            "_custom_units": {},
            "_model_module": "jupyter-leaflet",
            "_model_module_version": "^0.17",
            "_model_name": "LeafletMeasureControlModel",
            "_view_count": null,
            "_view_module": "jupyter-leaflet",
            "_view_module_version": "^0.17",
            "_view_name": "LeafletMeasureControlView",
            "active_color": "orange",
            "capture_z_index": 10000,
            "completed_color": "#C8F2BE",
            "options": [
              "active_color",
              "capture_z_index",
              "completed_color",
              "popup_options",
              "position",
              "primary_area_unit",
              "primary_length_unit",
              "secondary_area_unit",
              "secondary_length_unit"
            ],
            "popup_options": {
              "className": "leaflet-measure-resultpopup",
              "autoPanPadding": [
                10,
                10
              ]
            },
            "position": "bottomleft",
            "primary_area_unit": "acres",
            "primary_length_unit": "kilometers",
            "secondary_area_unit": null,
            "secondary_length_unit": null
          }
        },
        "6f132b4b91a6437f87b65b2bef6f1807": {
          "model_module": "jupyter-leaflet",
          "model_name": "LeafletWidgetControlModel",
          "model_module_version": "^0.17",
          "state": {
            "_model_module": "jupyter-leaflet",
            "_model_module_version": "^0.17",
            "_model_name": "LeafletWidgetControlModel",
            "_view_count": null,
            "_view_module": "jupyter-leaflet",
            "_view_module_version": "^0.17",
            "_view_name": "LeafletWidgetControlView",
            "max_height": null,
            "max_width": null,
            "min_height": null,
            "min_width": null,
            "options": [
              "position",
              "transparent_bg"
            ],
            "position": "topright",
            "transparent_bg": false,
            "widget": "IPY_MODEL_40381c65a9ce4ae5acdb30dcc983e50f"
          }
        },
        "ea0b6a4df0824f15b66b2bb35aef15f8": {
          "model_module": "jupyter-leaflet",
          "model_name": "LeafletAttributionControlModel",
          "model_module_version": "^0.17",
          "state": {
            "_model_module": "jupyter-leaflet",
            "_model_module_version": "^0.17",
            "_model_name": "LeafletAttributionControlModel",
            "_view_count": null,
            "_view_module": "jupyter-leaflet",
            "_view_module_version": "^0.17",
            "_view_name": "LeafletAttributionControlView",
            "options": [
              "position",
              "prefix"
            ],
            "position": "bottomright",
            "prefix": "ipyleaflet"
          }
        },
        "f2886124748f47cf94ce76ef9c5b6f6d": {
          "model_module": "jupyter-leaflet",
          "model_name": "LeafletMapStyleModel",
          "model_module_version": "^0.17",
          "state": {
            "_model_module": "jupyter-leaflet",
            "_model_module_version": "^0.17",
            "_model_name": "LeafletMapStyleModel",
            "_view_count": null,
            "_view_module": "@jupyter-widgets/base",
            "_view_module_version": "1.2.0",
            "_view_name": "StyleView",
            "cursor": "grab"
          }
        },
        "b7542ff664a0450f99a9b3c600017ac2": {
          "model_module": "jupyter-leaflet",
          "model_name": "LeafletMapStyleModel",
          "model_module_version": "^0.17",
          "state": {
            "_model_module": "jupyter-leaflet",
            "_model_module_version": "^0.17",
            "_model_name": "LeafletMapStyleModel",
            "_view_count": null,
            "_view_module": "@jupyter-widgets/base",
            "_view_module_version": "1.2.0",
            "_view_name": "StyleView",
            "cursor": "move"
          }
        },
        "537392d02e8547f395f72a1cedd0bc78": {
          "model_module": "jupyter-leaflet",
          "model_name": "LeafletTileLayerModel",
          "model_module_version": "^0.17",
          "state": {
            "_model_module": "jupyter-leaflet",
            "_model_module_version": "^0.17",
            "_model_name": "LeafletTileLayerModel",
            "_view_count": null,
            "_view_module": "jupyter-leaflet",
            "_view_module_version": "^0.17",
            "_view_name": "LeafletTileLayerView",
            "attribution": "&copy; <a href=\"https://www.openstreetmap.org/copyright\">OpenStreetMap</a> contributors",
            "base": true,
            "bottom": true,
            "bounds": null,
            "detect_retina": false,
            "loading": false,
            "max_native_zoom": null,
            "max_zoom": 19,
            "min_native_zoom": null,
            "min_zoom": 1,
            "name": "OpenStreetMap.Mapnik",
            "no_wrap": false,
            "opacity": 1,
            "options": [
              "attribution",
              "bounds",
              "detect_retina",
              "max_native_zoom",
              "max_zoom",
              "min_native_zoom",
              "min_zoom",
              "no_wrap",
              "tile_size",
              "tms",
              "zoom_offset"
            ],
            "pane": "",
            "popup": null,
            "popup_max_height": null,
            "popup_max_width": 300,
            "popup_min_width": 50,
            "show_loading": false,
            "subitems": [],
            "tile_size": 256,
            "tms": false,
            "url": "https://tile.openstreetmap.org/{z}/{x}/{y}.png",
            "visible": true,
            "zoom_offset": 0
          }
        },
        "7b486f3cd95549a5bbddddf59434a532": {
          "model_module": "jupyter-leaflet",
          "model_name": "LeafletTileLayerModel",
          "model_module_version": "^0.17",
          "state": {
            "_model_module": "jupyter-leaflet",
            "_model_module_version": "^0.17",
            "_model_name": "LeafletTileLayerModel",
            "_view_count": null,
            "_view_module": "jupyter-leaflet",
            "_view_module_version": "^0.17",
            "_view_name": "LeafletTileLayerView",
            "attribution": "Google",
            "base": false,
            "bottom": true,
            "bounds": null,
            "detect_retina": false,
            "loading": false,
            "max_native_zoom": null,
            "max_zoom": 24,
            "min_native_zoom": null,
            "min_zoom": 0,
            "name": "Google Maps",
            "no_wrap": false,
            "opacity": 1,
            "options": [
              "attribution",
              "bounds",
              "detect_retina",
              "max_native_zoom",
              "max_zoom",
              "min_native_zoom",
              "min_zoom",
              "no_wrap",
              "tile_size",
              "tms",
              "zoom_offset"
            ],
            "pane": "",
            "popup": null,
            "popup_max_height": null,
            "popup_max_width": 300,
            "popup_min_width": 50,
            "show_loading": false,
            "subitems": [],
            "tile_size": 256,
            "tms": false,
            "url": "https://mt1.google.com/vt/lyrs=m&x={x}&y={y}&z={z}",
            "visible": true,
            "zoom_offset": 0
          }
        },
        "af210ab96e994796b8632389376a4a81": {
          "model_module": "jupyter-leaflet",
          "model_name": "LeafletTileLayerModel",
          "model_module_version": "^0.17",
          "state": {
            "_model_module": "jupyter-leaflet",
            "_model_module_version": "^0.17",
            "_model_name": "LeafletTileLayerModel",
            "_view_count": null,
            "_view_module": "jupyter-leaflet",
            "_view_module_version": "^0.17",
            "_view_name": "LeafletTileLayerView",
            "attribution": "Google Earth Engine",
            "base": false,
            "bottom": true,
            "bounds": null,
            "detect_retina": false,
            "loading": false,
            "max_native_zoom": null,
            "max_zoom": 24,
            "min_native_zoom": null,
            "min_zoom": 0,
            "name": "Brazil",
            "no_wrap": false,
            "opacity": 1,
            "options": [
              "attribution",
              "bounds",
              "detect_retina",
              "max_native_zoom",
              "max_zoom",
              "min_native_zoom",
              "min_zoom",
              "no_wrap",
              "tile_size",
              "tms",
              "zoom_offset"
            ],
            "pane": "",
            "popup": null,
            "popup_max_height": null,
            "popup_max_width": 300,
            "popup_min_width": 50,
            "show_loading": false,
            "subitems": [],
            "tile_size": 256,
            "tms": false,
            "url": "https://earthengine.googleapis.com/v1alpha/projects/earthengine-legacy/maps/0ebc651dcd938564b29e4904bf52cb6c-768df43d2b13e700985e577f46b24c3c/tiles/{z}/{x}/{y}",
            "visible": true,
            "zoom_offset": 0
          }
        },
        "5ca19b37347f43308579fe600ffb67ce": {
          "model_module": "@jupyter-widgets/base",
          "model_name": "LayoutModel",
          "model_module_version": "1.2.0",
          "state": {
            "_model_module": "@jupyter-widgets/base",
            "_model_module_version": "1.2.0",
            "_model_name": "LayoutModel",
            "_view_count": null,
            "_view_module": "@jupyter-widgets/base",
            "_view_module_version": "1.2.0",
            "_view_name": "LayoutView",
            "align_content": null,
            "align_items": null,
            "align_self": null,
            "border": null,
            "bottom": null,
            "display": null,
            "flex": null,
            "flex_flow": null,
            "grid_area": null,
            "grid_auto_columns": null,
            "grid_auto_flow": null,
            "grid_auto_rows": null,
            "grid_column": null,
            "grid_gap": null,
            "grid_row": null,
            "grid_template_areas": null,
            "grid_template_columns": null,
            "grid_template_rows": null,
            "height": "600px",
            "justify_content": null,
            "justify_items": null,
            "left": null,
            "margin": null,
            "max_height": null,
            "max_width": null,
            "min_height": null,
            "min_width": null,
            "object_fit": null,
            "object_position": null,
            "order": null,
            "overflow": null,
            "overflow_x": null,
            "overflow_y": null,
            "padding": null,
            "right": null,
            "top": null,
            "visibility": null,
            "width": null
          }
        },
        "de694056ca2945f3bcd710e2e60040b7": {
          "model_module": "jupyter-leaflet",
          "model_name": "LeafletMapStyleModel",
          "model_module_version": "^0.17",
          "state": {
            "_model_module": "jupyter-leaflet",
            "_model_module_version": "^0.17",
            "_model_name": "LeafletMapStyleModel",
            "_view_count": null,
            "_view_module": "@jupyter-widgets/base",
            "_view_module_version": "1.2.0",
            "_view_name": "StyleView",
            "cursor": "grab"
          }
        },
        "1d26d588a8d4495fb2721f7aaebfbd2a": {
          "model_module": "@jupyter-widgets/controls",
          "model_name": "HBoxModel",
          "model_module_version": "1.5.0",
          "state": {
            "_dom_classes": [],
            "_model_module": "@jupyter-widgets/controls",
            "_model_module_version": "1.5.0",
            "_model_name": "HBoxModel",
            "_view_count": null,
            "_view_module": "@jupyter-widgets/controls",
            "_view_module_version": "1.5.0",
            "_view_name": "HBoxView",
            "box_style": "",
            "children": [
              "IPY_MODEL_db45cdd21afa41a9aa0c58958e9afcad"
            ],
            "layout": "IPY_MODEL_5c6a9a5ce76649a6bb42998154184b8a"
          }
        },
        "40381c65a9ce4ae5acdb30dcc983e50f": {
          "model_module": "@jupyter-widgets/controls",
          "model_name": "VBoxModel",
          "model_module_version": "1.5.0",
          "state": {
            "_dom_classes": [],
            "_model_module": "@jupyter-widgets/controls",
            "_model_module_version": "1.5.0",
            "_model_name": "VBoxModel",
            "_view_count": null,
            "_view_module": "@jupyter-widgets/controls",
            "_view_module_version": "1.5.0",
            "_view_name": "VBoxView",
            "box_style": "",
            "children": [
              "IPY_MODEL_4d5000eb260a4578916c27884d59f9db"
            ],
            "layout": "IPY_MODEL_eac0c7122c28424ba7c17dc72d38985d"
          }
        },
        "db45cdd21afa41a9aa0c58958e9afcad": {
          "model_module": "@jupyter-widgets/controls",
          "model_name": "ToggleButtonModel",
          "model_module_version": "1.5.0",
          "state": {
            "_dom_classes": [],
            "_model_module": "@jupyter-widgets/controls",
            "_model_module_version": "1.5.0",
            "_model_name": "ToggleButtonModel",
            "_view_count": null,
            "_view_module": "@jupyter-widgets/controls",
            "_view_module_version": "1.5.0",
            "_view_name": "ToggleButtonView",
            "button_style": "",
            "description": "",
            "description_tooltip": null,
            "disabled": false,
            "icon": "globe",
            "layout": "IPY_MODEL_d96c10019d194de7b8fb4ed1a54f3f32",
            "style": "IPY_MODEL_3b07d9e74114482d9ee5d36f09c94a61",
            "tooltip": "Search location/data",
            "value": false
          }
        },
        "5c6a9a5ce76649a6bb42998154184b8a": {
          "model_module": "@jupyter-widgets/base",
          "model_name": "LayoutModel",
          "model_module_version": "1.2.0",
          "state": {
            "_model_module": "@jupyter-widgets/base",
            "_model_module_version": "1.2.0",
            "_model_name": "LayoutModel",
            "_view_count": null,
            "_view_module": "@jupyter-widgets/base",
            "_view_module_version": "1.2.0",
            "_view_name": "LayoutView",
            "align_content": null,
            "align_items": null,
            "align_self": null,
            "border": null,
            "bottom": null,
            "display": null,
            "flex": null,
            "flex_flow": null,
            "grid_area": null,
            "grid_auto_columns": null,
            "grid_auto_flow": null,
            "grid_auto_rows": null,
            "grid_column": null,
            "grid_gap": null,
            "grid_row": null,
            "grid_template_areas": null,
            "grid_template_columns": null,
            "grid_template_rows": null,
            "height": null,
            "justify_content": null,
            "justify_items": null,
            "left": null,
            "margin": null,
            "max_height": null,
            "max_width": null,
            "min_height": null,
            "min_width": null,
            "object_fit": null,
            "object_position": null,
            "order": null,
            "overflow": null,
            "overflow_x": null,
            "overflow_y": null,
            "padding": null,
            "right": null,
            "top": null,
            "visibility": null,
            "width": null
          }
        },
        "4d5000eb260a4578916c27884d59f9db": {
          "model_module": "@jupyter-widgets/controls",
          "model_name": "ToggleButtonModel",
          "model_module_version": "1.5.0",
          "state": {
            "_dom_classes": [],
            "_model_module": "@jupyter-widgets/controls",
            "_model_module_version": "1.5.0",
            "_model_name": "ToggleButtonModel",
            "_view_count": null,
            "_view_module": "@jupyter-widgets/controls",
            "_view_module_version": "1.5.0",
            "_view_name": "ToggleButtonView",
            "button_style": "",
            "description": "",
            "description_tooltip": null,
            "disabled": false,
            "icon": "wrench",
            "layout": "IPY_MODEL_054503bb036e496a9ba5d998c96ed105",
            "style": "IPY_MODEL_2cdb6418e1b24f009130545f97b3c920",
            "tooltip": "Toolbar",
            "value": false
          }
        },
        "eac0c7122c28424ba7c17dc72d38985d": {
          "model_module": "@jupyter-widgets/base",
          "model_name": "LayoutModel",
          "model_module_version": "1.2.0",
          "state": {
            "_model_module": "@jupyter-widgets/base",
            "_model_module_version": "1.2.0",
            "_model_name": "LayoutModel",
            "_view_count": null,
            "_view_module": "@jupyter-widgets/base",
            "_view_module_version": "1.2.0",
            "_view_name": "LayoutView",
            "align_content": null,
            "align_items": null,
            "align_self": null,
            "border": null,
            "bottom": null,
            "display": null,
            "flex": null,
            "flex_flow": null,
            "grid_area": null,
            "grid_auto_columns": null,
            "grid_auto_flow": null,
            "grid_auto_rows": null,
            "grid_column": null,
            "grid_gap": null,
            "grid_row": null,
            "grid_template_areas": null,
            "grid_template_columns": null,
            "grid_template_rows": null,
            "height": null,
            "justify_content": null,
            "justify_items": null,
            "left": null,
            "margin": null,
            "max_height": null,
            "max_width": null,
            "min_height": null,
            "min_width": null,
            "object_fit": null,
            "object_position": null,
            "order": null,
            "overflow": null,
            "overflow_x": null,
            "overflow_y": null,
            "padding": null,
            "right": null,
            "top": null,
            "visibility": null,
            "width": null
          }
        },
        "d96c10019d194de7b8fb4ed1a54f3f32": {
          "model_module": "@jupyter-widgets/base",
          "model_name": "LayoutModel",
          "model_module_version": "1.2.0",
          "state": {
            "_model_module": "@jupyter-widgets/base",
            "_model_module_version": "1.2.0",
            "_model_name": "LayoutModel",
            "_view_count": null,
            "_view_module": "@jupyter-widgets/base",
            "_view_module_version": "1.2.0",
            "_view_name": "LayoutView",
            "align_content": null,
            "align_items": null,
            "align_self": null,
            "border": null,
            "bottom": null,
            "display": null,
            "flex": null,
            "flex_flow": null,
            "grid_area": null,
            "grid_auto_columns": null,
            "grid_auto_flow": null,
            "grid_auto_rows": null,
            "grid_column": null,
            "grid_gap": null,
            "grid_row": null,
            "grid_template_areas": null,
            "grid_template_columns": null,
            "grid_template_rows": null,
            "height": "28px",
            "justify_content": null,
            "justify_items": null,
            "left": null,
            "margin": null,
            "max_height": null,
            "max_width": null,
            "min_height": null,
            "min_width": null,
            "object_fit": null,
            "object_position": null,
            "order": null,
            "overflow": null,
            "overflow_x": null,
            "overflow_y": null,
            "padding": "0px 0px 0px 4px",
            "right": null,
            "top": null,
            "visibility": null,
            "width": "28px"
          }
        },
        "3b07d9e74114482d9ee5d36f09c94a61": {
          "model_module": "@jupyter-widgets/controls",
          "model_name": "DescriptionStyleModel",
          "model_module_version": "1.5.0",
          "state": {
            "_model_module": "@jupyter-widgets/controls",
            "_model_module_version": "1.5.0",
            "_model_name": "DescriptionStyleModel",
            "_view_count": null,
            "_view_module": "@jupyter-widgets/base",
            "_view_module_version": "1.2.0",
            "_view_name": "StyleView",
            "description_width": ""
          }
        },
        "054503bb036e496a9ba5d998c96ed105": {
          "model_module": "@jupyter-widgets/base",
          "model_name": "LayoutModel",
          "model_module_version": "1.2.0",
          "state": {
            "_model_module": "@jupyter-widgets/base",
            "_model_module_version": "1.2.0",
            "_model_name": "LayoutModel",
            "_view_count": null,
            "_view_module": "@jupyter-widgets/base",
            "_view_module_version": "1.2.0",
            "_view_name": "LayoutView",
            "align_content": null,
            "align_items": null,
            "align_self": null,
            "border": null,
            "bottom": null,
            "display": null,
            "flex": null,
            "flex_flow": null,
            "grid_area": null,
            "grid_auto_columns": null,
            "grid_auto_flow": null,
            "grid_auto_rows": null,
            "grid_column": null,
            "grid_gap": null,
            "grid_row": null,
            "grid_template_areas": null,
            "grid_template_columns": null,
            "grid_template_rows": null,
            "height": "28px",
            "justify_content": null,
            "justify_items": null,
            "left": null,
            "margin": null,
            "max_height": null,
            "max_width": null,
            "min_height": null,
            "min_width": null,
            "object_fit": null,
            "object_position": null,
            "order": null,
            "overflow": null,
            "overflow_x": null,
            "overflow_y": null,
            "padding": "0px 0px 0px 4px",
            "right": null,
            "top": null,
            "visibility": null,
            "width": "28px"
          }
        },
        "2cdb6418e1b24f009130545f97b3c920": {
          "model_module": "@jupyter-widgets/controls",
          "model_name": "DescriptionStyleModel",
          "model_module_version": "1.5.0",
          "state": {
            "_model_module": "@jupyter-widgets/controls",
            "_model_module_version": "1.5.0",
            "_model_name": "DescriptionStyleModel",
            "_view_count": null,
            "_view_module": "@jupyter-widgets/base",
            "_view_module_version": "1.2.0",
            "_view_name": "StyleView",
            "description_width": ""
          }
        },
        "2cde1fa68e4842169e7a374024486ac7": {
          "model_module": "@jupyter-widgets/controls",
          "model_name": "VBoxModel",
          "model_module_version": "1.5.0",
          "state": {
            "_dom_classes": [
              "widget-interact"
            ],
            "_model_module": "@jupyter-widgets/controls",
            "_model_module_version": "1.5.0",
            "_model_name": "VBoxModel",
            "_view_count": null,
            "_view_module": "@jupyter-widgets/controls",
            "_view_module_version": "1.5.0",
            "_view_name": "VBoxView",
            "box_style": "",
            "children": [
              "IPY_MODEL_7513f68860db440ba17477c758b851c9",
              "IPY_MODEL_e197cf664cb54288afc2dccad885c575",
              "IPY_MODEL_79ff1ed0bc344d7cb397faf129d942e5",
              "IPY_MODEL_02ce667815b34694af77a5d008efc20c"
            ],
            "layout": "IPY_MODEL_635d53937b8146e4b7ea545199b9d230"
          }
        },
        "7513f68860db440ba17477c758b851c9": {
          "model_module": "@jupyter-widgets/controls",
          "model_name": "TextModel",
          "model_module_version": "1.5.0",
          "state": {
            "_dom_classes": [],
            "_model_module": "@jupyter-widgets/controls",
            "_model_module_version": "1.5.0",
            "_model_name": "TextModel",
            "_view_count": null,
            "_view_module": "@jupyter-widgets/controls",
            "_view_module_version": "1.5.0",
            "_view_name": "TextView",
            "continuous_update": true,
            "description": "Email",
            "description_tooltip": null,
            "disabled": false,
            "layout": "IPY_MODEL_9afd54759d54498193499bdc810c4f52",
            "placeholder": "Enter email",
            "style": "IPY_MODEL_b4a6de6b148e4bd0a6b2dad730695be4",
            "value": "kazob@google.com"
          }
        },
        "e197cf664cb54288afc2dccad885c575": {
          "model_module": "@jupyter-widgets/controls",
          "model_name": "TextModel",
          "model_module_version": "1.5.0",
          "state": {
            "_dom_classes": [],
            "_model_module": "@jupyter-widgets/controls",
            "_model_module_version": "1.5.0",
            "_model_name": "TextModel",
            "_view_count": null,
            "_view_module": "@jupyter-widgets/controls",
            "_view_module_version": "1.5.0",
            "_view_name": "TextView",
            "continuous_update": true,
            "description": "Branch name",
            "description_tooltip": null,
            "disabled": false,
            "layout": "IPY_MODEL_ab1a7b8049b948c3a26638be78f4371d",
            "placeholder": "Enter branch name",
            "style": "IPY_MODEL_1ad24d4909364a9c9aea65e925131ff6",
            "value": "XGB-Streamlined"
          }
        },
        "79ff1ed0bc344d7cb397faf129d942e5": {
          "model_module": "@jupyter-widgets/controls",
          "model_name": "ButtonModel",
          "model_module_version": "1.5.0",
          "state": {
            "_dom_classes": [],
            "_model_module": "@jupyter-widgets/controls",
            "_model_module_version": "1.5.0",
            "_model_name": "ButtonModel",
            "_view_count": null,
            "_view_module": "@jupyter-widgets/controls",
            "_view_module_version": "1.5.0",
            "_view_name": "ButtonView",
            "button_style": "",
            "description": "Checkout Code",
            "disabled": false,
            "icon": "",
            "layout": "IPY_MODEL_854323d09e8d491a9e11b87fae5b9e18",
            "style": "IPY_MODEL_7113e2f608064524baf0984071aa95d9",
            "tooltip": ""
          }
        },
        "02ce667815b34694af77a5d008efc20c": {
          "model_module": "@jupyter-widgets/output",
          "model_name": "OutputModel",
          "model_module_version": "1.0.0",
          "state": {
            "_dom_classes": [],
            "_model_module": "@jupyter-widgets/output",
            "_model_module_version": "1.0.0",
            "_model_name": "OutputModel",
            "_view_count": null,
            "_view_module": "@jupyter-widgets/output",
            "_view_module_version": "1.0.0",
            "_view_name": "OutputView",
            "layout": "IPY_MODEL_4c3572124c534db4b729ad3c109deaea",
            "msg_id": "",
            "outputs": [
              {
                "output_type": "stream",
                "name": "stdout",
                "text": [
                  "executing checkout_branch XGB-Streamlined...\n",
                  "Branch XGB-Streamlined already checked out.\n",
                  "Remember to reload your imports with `importlib.reload(module)`.\n",
                  "b\"fatal: destination path 'ddf_common' already exists and is not an empty directory.\\nRepository already exists.\\n\"\n"
                ]
              },
              {
                "output_type": "stream",
                "name": "stdout",
                "text": [
                  "b'Already up to date.\\n'\n",
                  "b''\n",
                  "XGB-Streamlined branch checked out at \"/content/gdrive/MyDrive/XGB-Streamlined/ddf_common\". You may now use ddf_common imports and change common files.\n"
                ]
              },
              {
                "output_type": "display_data",
                "data": {
                  "text/plain": "interactive(children=(Text(value='required', description='Commit Msg', placeholder='Enter commit message'), Bu…",
                  "application/vnd.jupyter.widget-view+json": {
                    "version_major": 2,
                    "version_minor": 0,
                    "model_id": "7e5d325e1c28410b801013b734e42926"
                  }
                },
                "metadata": {}
              }
            ]
          }
        },
        "635d53937b8146e4b7ea545199b9d230": {
          "model_module": "@jupyter-widgets/base",
          "model_name": "LayoutModel",
          "model_module_version": "1.2.0",
          "state": {
            "_model_module": "@jupyter-widgets/base",
            "_model_module_version": "1.2.0",
            "_model_name": "LayoutModel",
            "_view_count": null,
            "_view_module": "@jupyter-widgets/base",
            "_view_module_version": "1.2.0",
            "_view_name": "LayoutView",
            "align_content": null,
            "align_items": null,
            "align_self": null,
            "border": null,
            "bottom": null,
            "display": null,
            "flex": null,
            "flex_flow": null,
            "grid_area": null,
            "grid_auto_columns": null,
            "grid_auto_flow": null,
            "grid_auto_rows": null,
            "grid_column": null,
            "grid_gap": null,
            "grid_row": null,
            "grid_template_areas": null,
            "grid_template_columns": null,
            "grid_template_rows": null,
            "height": null,
            "justify_content": null,
            "justify_items": null,
            "left": null,
            "margin": null,
            "max_height": null,
            "max_width": null,
            "min_height": null,
            "min_width": null,
            "object_fit": null,
            "object_position": null,
            "order": null,
            "overflow": null,
            "overflow_x": null,
            "overflow_y": null,
            "padding": null,
            "right": null,
            "top": null,
            "visibility": null,
            "width": null
          }
        },
        "9afd54759d54498193499bdc810c4f52": {
          "model_module": "@jupyter-widgets/base",
          "model_name": "LayoutModel",
          "model_module_version": "1.2.0",
          "state": {
            "_model_module": "@jupyter-widgets/base",
            "_model_module_version": "1.2.0",
            "_model_name": "LayoutModel",
            "_view_count": null,
            "_view_module": "@jupyter-widgets/base",
            "_view_module_version": "1.2.0",
            "_view_name": "LayoutView",
            "align_content": null,
            "align_items": null,
            "align_self": null,
            "border": null,
            "bottom": null,
            "display": null,
            "flex": null,
            "flex_flow": null,
            "grid_area": null,
            "grid_auto_columns": null,
            "grid_auto_flow": null,
            "grid_auto_rows": null,
            "grid_column": null,
            "grid_gap": null,
            "grid_row": null,
            "grid_template_areas": null,
            "grid_template_columns": null,
            "grid_template_rows": null,
            "height": null,
            "justify_content": null,
            "justify_items": null,
            "left": null,
            "margin": null,
            "max_height": null,
            "max_width": null,
            "min_height": null,
            "min_width": null,
            "object_fit": null,
            "object_position": null,
            "order": null,
            "overflow": null,
            "overflow_x": null,
            "overflow_y": null,
            "padding": null,
            "right": null,
            "top": null,
            "visibility": null,
            "width": null
          }
        },
        "b4a6de6b148e4bd0a6b2dad730695be4": {
          "model_module": "@jupyter-widgets/controls",
          "model_name": "DescriptionStyleModel",
          "model_module_version": "1.5.0",
          "state": {
            "_model_module": "@jupyter-widgets/controls",
            "_model_module_version": "1.5.0",
            "_model_name": "DescriptionStyleModel",
            "_view_count": null,
            "_view_module": "@jupyter-widgets/base",
            "_view_module_version": "1.2.0",
            "_view_name": "StyleView",
            "description_width": ""
          }
        },
        "ab1a7b8049b948c3a26638be78f4371d": {
          "model_module": "@jupyter-widgets/base",
          "model_name": "LayoutModel",
          "model_module_version": "1.2.0",
          "state": {
            "_model_module": "@jupyter-widgets/base",
            "_model_module_version": "1.2.0",
            "_model_name": "LayoutModel",
            "_view_count": null,
            "_view_module": "@jupyter-widgets/base",
            "_view_module_version": "1.2.0",
            "_view_name": "LayoutView",
            "align_content": null,
            "align_items": null,
            "align_self": null,
            "border": null,
            "bottom": null,
            "display": null,
            "flex": null,
            "flex_flow": null,
            "grid_area": null,
            "grid_auto_columns": null,
            "grid_auto_flow": null,
            "grid_auto_rows": null,
            "grid_column": null,
            "grid_gap": null,
            "grid_row": null,
            "grid_template_areas": null,
            "grid_template_columns": null,
            "grid_template_rows": null,
            "height": null,
            "justify_content": null,
            "justify_items": null,
            "left": null,
            "margin": null,
            "max_height": null,
            "max_width": null,
            "min_height": null,
            "min_width": null,
            "object_fit": null,
            "object_position": null,
            "order": null,
            "overflow": null,
            "overflow_x": null,
            "overflow_y": null,
            "padding": null,
            "right": null,
            "top": null,
            "visibility": null,
            "width": null
          }
        },
        "1ad24d4909364a9c9aea65e925131ff6": {
          "model_module": "@jupyter-widgets/controls",
          "model_name": "DescriptionStyleModel",
          "model_module_version": "1.5.0",
          "state": {
            "_model_module": "@jupyter-widgets/controls",
            "_model_module_version": "1.5.0",
            "_model_name": "DescriptionStyleModel",
            "_view_count": null,
            "_view_module": "@jupyter-widgets/base",
            "_view_module_version": "1.2.0",
            "_view_name": "StyleView",
            "description_width": ""
          }
        },
        "854323d09e8d491a9e11b87fae5b9e18": {
          "model_module": "@jupyter-widgets/base",
          "model_name": "LayoutModel",
          "model_module_version": "1.2.0",
          "state": {
            "_model_module": "@jupyter-widgets/base",
            "_model_module_version": "1.2.0",
            "_model_name": "LayoutModel",
            "_view_count": null,
            "_view_module": "@jupyter-widgets/base",
            "_view_module_version": "1.2.0",
            "_view_name": "LayoutView",
            "align_content": null,
            "align_items": null,
            "align_self": null,
            "border": null,
            "bottom": null,
            "display": null,
            "flex": null,
            "flex_flow": null,
            "grid_area": null,
            "grid_auto_columns": null,
            "grid_auto_flow": null,
            "grid_auto_rows": null,
            "grid_column": null,
            "grid_gap": null,
            "grid_row": null,
            "grid_template_areas": null,
            "grid_template_columns": null,
            "grid_template_rows": null,
            "height": null,
            "justify_content": null,
            "justify_items": null,
            "left": null,
            "margin": null,
            "max_height": null,
            "max_width": null,
            "min_height": null,
            "min_width": null,
            "object_fit": null,
            "object_position": null,
            "order": null,
            "overflow": null,
            "overflow_x": null,
            "overflow_y": null,
            "padding": null,
            "right": null,
            "top": null,
            "visibility": null,
            "width": null
          }
        },
        "7113e2f608064524baf0984071aa95d9": {
          "model_module": "@jupyter-widgets/controls",
          "model_name": "ButtonStyleModel",
          "model_module_version": "1.5.0",
          "state": {
            "_model_module": "@jupyter-widgets/controls",
            "_model_module_version": "1.5.0",
            "_model_name": "ButtonStyleModel",
            "_view_count": null,
            "_view_module": "@jupyter-widgets/base",
            "_view_module_version": "1.2.0",
            "_view_name": "StyleView",
            "button_color": null,
            "font_weight": ""
          }
        },
        "4c3572124c534db4b729ad3c109deaea": {
          "model_module": "@jupyter-widgets/base",
          "model_name": "LayoutModel",
          "model_module_version": "1.2.0",
          "state": {
            "_model_module": "@jupyter-widgets/base",
            "_model_module_version": "1.2.0",
            "_model_name": "LayoutModel",
            "_view_count": null,
            "_view_module": "@jupyter-widgets/base",
            "_view_module_version": "1.2.0",
            "_view_name": "LayoutView",
            "align_content": null,
            "align_items": null,
            "align_self": null,
            "border": null,
            "bottom": null,
            "display": null,
            "flex": null,
            "flex_flow": null,
            "grid_area": null,
            "grid_auto_columns": null,
            "grid_auto_flow": null,
            "grid_auto_rows": null,
            "grid_column": null,
            "grid_gap": null,
            "grid_row": null,
            "grid_template_areas": null,
            "grid_template_columns": null,
            "grid_template_rows": null,
            "height": null,
            "justify_content": null,
            "justify_items": null,
            "left": null,
            "margin": null,
            "max_height": null,
            "max_width": null,
            "min_height": null,
            "min_width": null,
            "object_fit": null,
            "object_position": null,
            "order": null,
            "overflow": null,
            "overflow_x": null,
            "overflow_y": null,
            "padding": null,
            "right": null,
            "top": null,
            "visibility": null,
            "width": null
          }
        },
        "7e5d325e1c28410b801013b734e42926": {
          "model_module": "@jupyter-widgets/controls",
          "model_name": "VBoxModel",
          "model_module_version": "1.5.0",
          "state": {
            "_dom_classes": [
              "widget-interact"
            ],
            "_model_module": "@jupyter-widgets/controls",
            "_model_module_version": "1.5.0",
            "_model_name": "VBoxModel",
            "_view_count": null,
            "_view_module": "@jupyter-widgets/controls",
            "_view_module_version": "1.5.0",
            "_view_name": "VBoxView",
            "box_style": "",
            "children": [
              "IPY_MODEL_5a7bbf285b6740d19aa5dab91946cd41",
              "IPY_MODEL_93ec6135b29447e38cffdc3095014160",
              "IPY_MODEL_e46d83cbbd4d45db9e16383298974518"
            ],
            "layout": "IPY_MODEL_a1336581f8544efc9664b4adc4cb27bc"
          }
        },
        "5a7bbf285b6740d19aa5dab91946cd41": {
          "model_module": "@jupyter-widgets/controls",
          "model_name": "TextModel",
          "model_module_version": "1.5.0",
          "state": {
            "_dom_classes": [],
            "_model_module": "@jupyter-widgets/controls",
            "_model_module_version": "1.5.0",
            "_model_name": "TextModel",
            "_view_count": null,
            "_view_module": "@jupyter-widgets/controls",
            "_view_module_version": "1.5.0",
            "_view_name": "TextView",
            "continuous_update": true,
            "description": "Commit Msg",
            "description_tooltip": null,
            "disabled": false,
            "layout": "IPY_MODEL_370d4979d60d47d5970685ed9aeb4046",
            "placeholder": "Enter commit message",
            "style": "IPY_MODEL_abfedf1434304b78853e0794ad65b17b",
            "value": "required"
          }
        },
        "93ec6135b29447e38cffdc3095014160": {
          "model_module": "@jupyter-widgets/controls",
          "model_name": "ButtonModel",
          "model_module_version": "1.5.0",
          "state": {
            "_dom_classes": [],
            "_model_module": "@jupyter-widgets/controls",
            "_model_module_version": "1.5.0",
            "_model_name": "ButtonModel",
            "_view_count": null,
            "_view_module": "@jupyter-widgets/controls",
            "_view_module_version": "1.5.0",
            "_view_name": "ButtonView",
            "button_style": "",
            "description": "Commit All Changes",
            "disabled": false,
            "icon": "",
            "layout": "IPY_MODEL_ea8677675a6544cdb305891c810ede59",
            "style": "IPY_MODEL_93b3c66716f8453db804e242512bd72f",
            "tooltip": ""
          }
        },
        "e46d83cbbd4d45db9e16383298974518": {
          "model_module": "@jupyter-widgets/output",
          "model_name": "OutputModel",
          "model_module_version": "1.0.0",
          "state": {
            "_dom_classes": [],
            "_model_module": "@jupyter-widgets/output",
            "_model_module_version": "1.0.0",
            "_model_name": "OutputModel",
            "_view_count": null,
            "_view_module": "@jupyter-widgets/output",
            "_view_module_version": "1.0.0",
            "_view_name": "OutputView",
            "layout": "IPY_MODEL_a115df8962444c2fab8f40306a76f148",
            "msg_id": "",
            "outputs": []
          }
        },
        "a1336581f8544efc9664b4adc4cb27bc": {
          "model_module": "@jupyter-widgets/base",
          "model_name": "LayoutModel",
          "model_module_version": "1.2.0",
          "state": {
            "_model_module": "@jupyter-widgets/base",
            "_model_module_version": "1.2.0",
            "_model_name": "LayoutModel",
            "_view_count": null,
            "_view_module": "@jupyter-widgets/base",
            "_view_module_version": "1.2.0",
            "_view_name": "LayoutView",
            "align_content": null,
            "align_items": null,
            "align_self": null,
            "border": null,
            "bottom": null,
            "display": null,
            "flex": null,
            "flex_flow": null,
            "grid_area": null,
            "grid_auto_columns": null,
            "grid_auto_flow": null,
            "grid_auto_rows": null,
            "grid_column": null,
            "grid_gap": null,
            "grid_row": null,
            "grid_template_areas": null,
            "grid_template_columns": null,
            "grid_template_rows": null,
            "height": null,
            "justify_content": null,
            "justify_items": null,
            "left": null,
            "margin": null,
            "max_height": null,
            "max_width": null,
            "min_height": null,
            "min_width": null,
            "object_fit": null,
            "object_position": null,
            "order": null,
            "overflow": null,
            "overflow_x": null,
            "overflow_y": null,
            "padding": null,
            "right": null,
            "top": null,
            "visibility": null,
            "width": null
          }
        },
        "370d4979d60d47d5970685ed9aeb4046": {
          "model_module": "@jupyter-widgets/base",
          "model_name": "LayoutModel",
          "model_module_version": "1.2.0",
          "state": {
            "_model_module": "@jupyter-widgets/base",
            "_model_module_version": "1.2.0",
            "_model_name": "LayoutModel",
            "_view_count": null,
            "_view_module": "@jupyter-widgets/base",
            "_view_module_version": "1.2.0",
            "_view_name": "LayoutView",
            "align_content": null,
            "align_items": null,
            "align_self": null,
            "border": null,
            "bottom": null,
            "display": null,
            "flex": null,
            "flex_flow": null,
            "grid_area": null,
            "grid_auto_columns": null,
            "grid_auto_flow": null,
            "grid_auto_rows": null,
            "grid_column": null,
            "grid_gap": null,
            "grid_row": null,
            "grid_template_areas": null,
            "grid_template_columns": null,
            "grid_template_rows": null,
            "height": null,
            "justify_content": null,
            "justify_items": null,
            "left": null,
            "margin": null,
            "max_height": null,
            "max_width": null,
            "min_height": null,
            "min_width": null,
            "object_fit": null,
            "object_position": null,
            "order": null,
            "overflow": null,
            "overflow_x": null,
            "overflow_y": null,
            "padding": null,
            "right": null,
            "top": null,
            "visibility": null,
            "width": null
          }
        },
        "abfedf1434304b78853e0794ad65b17b": {
          "model_module": "@jupyter-widgets/controls",
          "model_name": "DescriptionStyleModel",
          "model_module_version": "1.5.0",
          "state": {
            "_model_module": "@jupyter-widgets/controls",
            "_model_module_version": "1.5.0",
            "_model_name": "DescriptionStyleModel",
            "_view_count": null,
            "_view_module": "@jupyter-widgets/base",
            "_view_module_version": "1.2.0",
            "_view_name": "StyleView",
            "description_width": ""
          }
        },
        "ea8677675a6544cdb305891c810ede59": {
          "model_module": "@jupyter-widgets/base",
          "model_name": "LayoutModel",
          "model_module_version": "1.2.0",
          "state": {
            "_model_module": "@jupyter-widgets/base",
            "_model_module_version": "1.2.0",
            "_model_name": "LayoutModel",
            "_view_count": null,
            "_view_module": "@jupyter-widgets/base",
            "_view_module_version": "1.2.0",
            "_view_name": "LayoutView",
            "align_content": null,
            "align_items": null,
            "align_self": null,
            "border": null,
            "bottom": null,
            "display": null,
            "flex": null,
            "flex_flow": null,
            "grid_area": null,
            "grid_auto_columns": null,
            "grid_auto_flow": null,
            "grid_auto_rows": null,
            "grid_column": null,
            "grid_gap": null,
            "grid_row": null,
            "grid_template_areas": null,
            "grid_template_columns": null,
            "grid_template_rows": null,
            "height": null,
            "justify_content": null,
            "justify_items": null,
            "left": null,
            "margin": null,
            "max_height": null,
            "max_width": null,
            "min_height": null,
            "min_width": null,
            "object_fit": null,
            "object_position": null,
            "order": null,
            "overflow": null,
            "overflow_x": null,
            "overflow_y": null,
            "padding": null,
            "right": null,
            "top": null,
            "visibility": null,
            "width": null
          }
        },
        "93b3c66716f8453db804e242512bd72f": {
          "model_module": "@jupyter-widgets/controls",
          "model_name": "ButtonStyleModel",
          "model_module_version": "1.5.0",
          "state": {
            "_model_module": "@jupyter-widgets/controls",
            "_model_module_version": "1.5.0",
            "_model_name": "ButtonStyleModel",
            "_view_count": null,
            "_view_module": "@jupyter-widgets/base",
            "_view_module_version": "1.2.0",
            "_view_name": "StyleView",
            "button_color": null,
            "font_weight": ""
          }
        },
        "a115df8962444c2fab8f40306a76f148": {
          "model_module": "@jupyter-widgets/base",
          "model_name": "LayoutModel",
          "model_module_version": "1.2.0",
          "state": {
            "_model_module": "@jupyter-widgets/base",
            "_model_module_version": "1.2.0",
            "_model_name": "LayoutModel",
            "_view_count": null,
            "_view_module": "@jupyter-widgets/base",
            "_view_module_version": "1.2.0",
            "_view_name": "LayoutView",
            "align_content": null,
            "align_items": null,
            "align_self": null,
            "border": null,
            "bottom": null,
            "display": null,
            "flex": null,
            "flex_flow": null,
            "grid_area": null,
            "grid_auto_columns": null,
            "grid_auto_flow": null,
            "grid_auto_rows": null,
            "grid_column": null,
            "grid_gap": null,
            "grid_row": null,
            "grid_template_areas": null,
            "grid_template_columns": null,
            "grid_template_rows": null,
            "height": null,
            "justify_content": null,
            "justify_items": null,
            "left": null,
            "margin": null,
            "max_height": null,
            "max_width": null,
            "min_height": null,
            "min_width": null,
            "object_fit": null,
            "object_position": null,
            "order": null,
            "overflow": null,
            "overflow_x": null,
            "overflow_y": null,
            "padding": null,
            "right": null,
            "top": null,
            "visibility": null,
            "width": null
          }
        }
      }
    }
  },
  "cells": [
    {
      "cell_type": "markdown",
      "metadata": {
        "id": "view-in-github",
        "colab_type": "text"
      },
      "source": [
        "<a href=\"https://colab.research.google.com/github/tnc-br/ddf-insights-analytics/blob/main/origin_validation_ddf_common.ipynb\" target=\"_parent\"><img src=\"https://colab.research.google.com/assets/colab-badge.svg\" alt=\"Open In Colab\"/></a>"
      ]
    },
    {
      "cell_type": "markdown",
      "source": [
        "**Meta Data and Parameters**"
      ],
      "metadata": {
        "id": "rkloPz7e98bx"
      }
    },
    {
      "cell_type": "code",
      "source": [
        "#@title Parameters\n",
        "lat = -9\n",
        "lon = -40\n",
        "oxygen_measurements = [32,33,34]\n",
        "nitrogen_measurements = [22,23,24]\n",
        "carbon_measurements = [-20,-21,-23]"
      ],
      "metadata": {
        "id": "dCoa0gCn-Bwu"
      },
      "execution_count": null,
      "outputs": []
    },
    {
      "cell_type": "markdown",
      "source": [
        "Requirements"
      ],
      "metadata": {
        "id": "pNXXIB1U-CEP"
      }
    },
    {
      "cell_type": "code",
      "execution_count": 8,
      "metadata": {
        "id": "bae8s2QJWQff"
      },
      "outputs": [],
      "source": [
        "#Install requirements\n",
        "# !pip install geemap\n",
        "import importlib\n",
        "import sys\n",
        "!if [ ! -d \"/content/ddf_common_stub\" ] ; then git clone -b xgb-streamlined https://github.com/tnc-br/ddf_common_stub.git; fi\n",
        "sys.path.append(\"/content/ddf_common_stub/\")"
      ]
    },
    {
      "cell_type": "code",
      "source": [
        "import ddfimport\n",
        "ddfimport.ddf_source_control_pane()"
      ],
      "metadata": {
        "id": "MjeZXNA0IuF6",
        "outputId": "01a48545-eb92-4192-abd8-689ccc2c5560",
        "colab": {
          "base_uri": "https://localhost:8080/",
          "height": 316,
          "referenced_widgets": [
            "2cde1fa68e4842169e7a374024486ac7",
            "7513f68860db440ba17477c758b851c9",
            "e197cf664cb54288afc2dccad885c575",
            "79ff1ed0bc344d7cb397faf129d942e5",
            "02ce667815b34694af77a5d008efc20c",
            "635d53937b8146e4b7ea545199b9d230",
            "9afd54759d54498193499bdc810c4f52",
            "b4a6de6b148e4bd0a6b2dad730695be4",
            "ab1a7b8049b948c3a26638be78f4371d",
            "1ad24d4909364a9c9aea65e925131ff6",
            "854323d09e8d491a9e11b87fae5b9e18",
            "7113e2f608064524baf0984071aa95d9",
            "4c3572124c534db4b729ad3c109deaea",
            "7e5d325e1c28410b801013b734e42926",
            "5a7bbf285b6740d19aa5dab91946cd41",
            "93ec6135b29447e38cffdc3095014160",
            "e46d83cbbd4d45db9e16383298974518",
            "a1336581f8544efc9664b4adc4cb27bc",
            "370d4979d60d47d5970685ed9aeb4046",
            "abfedf1434304b78853e0794ad65b17b",
            "ea8677675a6544cdb305891c810ede59",
            "93b3c66716f8453db804e242512bd72f",
            "a115df8962444c2fab8f40306a76f148"
          ]
        }
      },
      "execution_count": 9,
      "outputs": [
        {
          "output_type": "display_data",
          "data": {
            "text/plain": [
              "interactive(children=(Text(value='', description='Email', placeholder='Enter email'), Text(value='', descripti…"
            ],
            "application/vnd.jupyter.widget-view+json": {
              "version_major": 2,
              "version_minor": 0,
              "model_id": "2cde1fa68e4842169e7a374024486ac7"
            }
          },
          "metadata": {}
        },
        {
          "output_type": "execute_result",
          "data": {
            "text/plain": [
              "<module 'hypothesis' from '/content/gdrive/MyDrive/XGB-Streamlined/ddf_common/hypothesis.py'>"
            ]
          },
          "metadata": {},
          "execution_count": 9
        }
      ]
    },
    {
      "cell_type": "code",
      "source": [
        "import hypothesis\n",
        "importlib.reload(hypothesis)\n",
        "import raster\n",
        "importlib.reload(raster)\n"
      ],
      "metadata": {
        "id": "4Kmf5ABlI8T6",
        "outputId": "3eb13596-37da-4bb0-8ca9-844d8f98a10a",
        "colab": {
          "base_uri": "https://localhost:8080/"
        }
      },
      "execution_count": 12,
      "outputs": [
        {
          "output_type": "execute_result",
          "data": {
            "text/plain": [
              "<module 'raster' from '/content/gdrive/MyDrive/XGB-Streamlined/ddf_common/raster.py'>"
            ]
          },
          "metadata": {},
          "execution_count": 12
        }
      ]
    },
    {
      "cell_type": "code",
      "source": [
        "import pandas as pd\n",
        "\n"
      ],
      "metadata": {
        "id": "4bOz8zZFLa-v"
      },
      "execution_count": 11,
      "outputs": []
    },
    {
      "cell_type": "code",
      "source": [
        "longitude = -71\n",
        "latitude = -5.5\n",
        "# The range of expected values is around 25 for most locations here.\n",
        "isotope_values = pd.Series([-20.0, -15.0])\n",
        "test_means_isoscape = raster.load_raster(raster.get_raster_path(TEST_ISOSCAPE_MEANS_FILENAME), use_only_band_index=0)\n",
        "test_vars_isoscape = raster.load_raster(raster.get_raster_path(TEST_ISOSCAPE_VARS_FILENAME), use_only_band_index=0)\n",
        "sample_size_per_location = 2\n",
        "p_value_target = 0.05\n",
        "\n",
        "hypothesis_test = hypothesis.sample_ttest(longitude,\n",
        "                latitude,\n",
        "                isotope_values,\n",
        "                test_means_isoscape,\n",
        "                test_vars_isoscape,\n",
        "                sample_size_per_location,\n",
        "                p_value_target)\n",
        "\n",
        "print(hypothesis_test)\n"
      ],
      "metadata": {
        "id": "tEHbId1DGw5P"
      },
      "execution_count": null,
      "outputs": []
    },
    {
      "cell_type": "markdown",
      "source": [
        "Libraries"
      ],
      "metadata": {
        "id": "C52pgdu3dcTQ"
      }
    },
    {
      "cell_type": "code",
      "source": [
        "#Import Libraries\n",
        "import ee\n",
        "import os\n",
        "import numpy as np\n",
        "import scipy\n"
      ],
      "metadata": {
        "id": "5RjFtU7ddagK"
      },
      "execution_count": null,
      "outputs": []
    },
    {
      "cell_type": "markdown",
      "source": [
        "Authentication and Authorization"
      ],
      "metadata": {
        "id": "3Z0eMms1hx8d"
      }
    },
    {
      "cell_type": "code",
      "source": [
        "#Authenticate\n",
        "if os.path.isfile('key.json') :\n",
        "\n",
        "    # connection to the service account\n",
        "    service_account = 'fraud-detection-pipeline-sa@kazob-370920.iam.gserviceaccount.com'\n",
        "    credentials = ee.ServiceAccountCredentials(service_account, 'key.json')\n",
        "    ee.Initialize(credentials)\n",
        "    print('initialized with key')\n",
        "\n",
        "# if in local env use the local user credential\n",
        "else:\n",
        "    ee.Initialize()"
      ],
      "metadata": {
        "colab": {
          "base_uri": "https://localhost:8080/"
        },
        "id": "vbTjIOs1hqbd",
        "outputId": "5fcf3d6d-ea30-4b23-fd94-d1a8aa640525"
      },
      "execution_count": null,
      "outputs": [
        {
          "output_type": "stream",
          "name": "stdout",
          "text": [
            "initialized with key\n"
          ]
        }
      ]
    },
    {
      "cell_type": "markdown",
      "source": [
        "Global Variable definition"
      ],
      "metadata": {
        "id": "O8mJG-sRsf52"
      }
    },
    {
      "cell_type": "code",
      "source": [
        "isoscapes_ee_path = 'users/kazob/isoscapes'"
      ],
      "metadata": {
        "id": "tESIfBxBiG45"
      },
      "execution_count": null,
      "outputs": []
    },
    {
      "cell_type": "markdown",
      "source": [
        "Datasets"
      ],
      "metadata": {
        "id": "eCgPZbBrh_TY"
      }
    },
    {
      "cell_type": "code",
      "source": [
        "# import geemap\n",
        "# Map = geemap.Map()\n",
        "# #brazil_bounds = ee.FeatureCollection('FAO/GAUL/2015/level1').filter(ee.Filter.eq('ADM0_NAME', 'Brazil'))\n",
        "# Map.addLayer(carbon_means_iso.select('b1'), {}, 'Brazil')\n",
        "# #Map.centerObject(brazil_bounds,4)"
      ],
      "metadata": {
        "id": "skg1O-pwiD89"
      },
      "execution_count": null,
      "outputs": []
    },
    {
      "cell_type": "markdown",
      "source": [
        "Code"
      ],
      "metadata": {
        "id": "HOl1eh0jiFA2"
      }
    },
    {
      "cell_type": "code",
      "source": [
        "Map"
      ],
      "metadata": {
        "id": "usBFHRgB-QBQ",
        "outputId": "6214b5a4-69ea-4687-f2b7-9a6c803a582b",
        "colab": {
          "base_uri": "https://localhost:8080/",
          "height": 621,
          "referenced_widgets": [
            "e3b2dfc2c2804241965e653d6ea4b539",
            "bbff56a4a5a549af800ea729e16cb990",
            "5a8779ef5e7044c7bcb2cf66ff9beb62",
            "f06ef5b04c77450d877c4812e660c079",
            "d662ad575e754c6ca816a4902f8d237d",
            "d52ad0fdc90244e3a56d9b0c4ca4971d",
            "ee5ae0b0d6c447d49cdb1e8d157e7ccd",
            "6f132b4b91a6437f87b65b2bef6f1807",
            "ea0b6a4df0824f15b66b2bb35aef15f8",
            "f2886124748f47cf94ce76ef9c5b6f6d",
            "b7542ff664a0450f99a9b3c600017ac2",
            "537392d02e8547f395f72a1cedd0bc78",
            "7b486f3cd95549a5bbddddf59434a532",
            "af210ab96e994796b8632389376a4a81",
            "5ca19b37347f43308579fe600ffb67ce",
            "de694056ca2945f3bcd710e2e60040b7",
            "1d26d588a8d4495fb2721f7aaebfbd2a",
            "40381c65a9ce4ae5acdb30dcc983e50f",
            "db45cdd21afa41a9aa0c58958e9afcad",
            "5c6a9a5ce76649a6bb42998154184b8a",
            "4d5000eb260a4578916c27884d59f9db",
            "eac0c7122c28424ba7c17dc72d38985d",
            "d96c10019d194de7b8fb4ed1a54f3f32",
            "3b07d9e74114482d9ee5d36f09c94a61",
            "054503bb036e496a9ba5d998c96ed105",
            "2cdb6418e1b24f009130545f97b3c920"
          ]
        }
      },
      "execution_count": null,
      "outputs": [
        {
          "output_type": "display_data",
          "data": {
            "text/plain": [
              "Map(center=[20, 0], controls=(WidgetControl(options=['position', 'transparent_bg'], widget=HBox(children=(Togg…"
            ],
            "application/vnd.jupyter.widget-view+json": {
              "version_major": 2,
              "version_minor": 0,
              "model_id": "e3b2dfc2c2804241965e653d6ea4b539"
            }
          },
          "metadata": {
            "application/vnd.jupyter.widget-view+json": {
              "colab": {
                "custom_widget_manager": {
                  "url": "https://ssl.gstatic.com/colaboratory-static/widgets/colab-cdn-widget-manager/b3e629b1971e1542/manager.min.js"
                }
              }
            }
          }
        }
      ]
    },
    {
      "cell_type": "markdown",
      "source": [
        "fetching isoscapes"
      ],
      "metadata": {
        "id": "ZKm9VB_wCId7"
      }
    },
    {
      "cell_type": "code",
      "source": [
        "parent_asset = ee.data.getAsset(isoscapes_ee_path)\n",
        "parent_id = parent_asset['name']\n",
        "parent_type = parent_asset['type']\n",
        "asset_list = []\n",
        "child_assets = ee.data.listAssets({'parent': parent_id})['assets']\n",
        "for child_asset in child_assets:\n",
        "    child_id = child_asset['name']\n",
        "    child_type = child_asset['type']\n",
        "    if child_type in ['FOLDER','IMAGE_COLLECTION']:\n",
        "        # Recursively call the function to get child assets\n",
        "        asset_list.extend(get_asset_list(child_id))\n",
        "    else:\n",
        "        asset_list.append(child_id)\n",
        "asset_list"
      ],
      "metadata": {
        "id": "kcDfVhOvAgpN",
        "outputId": "8f037771-6ba4-40b4-949f-e0f7c72af570",
        "colab": {
          "base_uri": "https://localhost:8080/"
        }
      },
      "execution_count": null,
      "outputs": [
        {
          "output_type": "execute_result",
          "data": {
            "text/plain": [
              "['projects/earthengine-legacy/assets/users/kazob/isoscapes/Brasil_Raster_Krig_SD_d15N',\n",
              " 'projects/earthengine-legacy/assets/users/kazob/isoscapes/Raster_Brasil_krig_d15N',\n",
              " 'projects/earthengine-legacy/assets/users/kazob/isoscapes/iso_d13C_map_wood_stack_crs',\n",
              " 'projects/earthengine-legacy/assets/users/kazob/isoscapes/xgb_means_oxygen_isoscape',\n",
              " 'projects/earthengine-legacy/assets/users/kazob/isoscapes/xgb_variances_oxygen_isoscape']"
            ]
          },
          "metadata": {},
          "execution_count": 60
        }
      ]
    },
    {
      "cell_type": "code",
      "source": [
        "for asset in asset_list:\n",
        "  if ('oxygen' in asset) and ('mean' in asset):\n",
        "    oxygen_means_iso = ee.Image(asset)\n",
        "  elif 'oxygen' in asset and 'variance' in asset:\n",
        "    oxygen_variances_iso = ee.Image(asset)\n",
        "  elif 'd13C' in asset:\n",
        "    carbon_means_iso = ee.Image(asset)\n",
        "    carbon_variances_iso = ee.Image(asset).select('b1')\n",
        "    print('moma')\n",
        "  elif 'd15N' in asset and 'SD' in asset:\n",
        "    nitrogen_variances_iso = ee.Image(asset)\n",
        "  elif 'd15N' in asset and 'SD' not in asset:\n",
        "    nitrogen_means_iso = ee.Image(asset)\n"
      ],
      "metadata": {
        "id": "Y7RqVd8sEGcG",
        "outputId": "4ad97a8d-debb-4d8e-887f-7a60a3aa93e7",
        "colab": {
          "base_uri": "https://localhost:8080/"
        }
      },
      "execution_count": null,
      "outputs": [
        {
          "output_type": "stream",
          "name": "stdout",
          "text": [
            "moma\n"
          ]
        }
      ]
    },
    {
      "cell_type": "code",
      "source": [
        "#carbon_means_iso.getInfo()"
      ],
      "metadata": {
        "id": "_QlnbGSjiREg"
      },
      "execution_count": null,
      "outputs": []
    },
    {
      "cell_type": "markdown",
      "source": [
        "POI definition"
      ],
      "metadata": {
        "id": "rjDrrwTpCdW-"
      }
    },
    {
      "cell_type": "code",
      "source": [
        "poi = ee.Geometry.Point(lon,lat)"
      ],
      "metadata": {
        "id": "3ydB0IMgEb_4"
      },
      "execution_count": null,
      "outputs": []
    },
    {
      "cell_type": "markdown",
      "source": [
        "***Oxygen***"
      ],
      "metadata": {
        "id": "RR7av0qdUZOD"
      }
    },
    {
      "cell_type": "markdown",
      "source": [
        "Isoscape"
      ],
      "metadata": {
        "id": "CaKTkP1SVLIL"
      }
    },
    {
      "cell_type": "code",
      "source": [
        "isoscape_mean = oxygen_means_iso.reduceRegion(\n",
        "  reducer = ee.Reducer.mean(),\n",
        "  geometry = poi,\n",
        "  scale = 30).getInfo().get('b1');\n",
        "isoscape_var = oxygen_variances_iso.reduceRegion(\n",
        "  reducer = ee.Reducer.mean(),\n",
        "  geometry = poi,\n",
        "  scale = 30).getInfo().get('b1');\n",
        "if isoscape_var is not None:\n",
        "  isoscape_std = np.sqrt(isoscape_var)\n",
        "else:\n",
        "  isoscape_std = 0"
      ],
      "metadata": {
        "id": "9SJUcf5cU4pV"
      },
      "execution_count": null,
      "outputs": []
    },
    {
      "cell_type": "markdown",
      "source": [
        "Isotope calculation"
      ],
      "metadata": {
        "id": "_kw3db8mMqq9"
      }
    },
    {
      "cell_type": "code",
      "source": [
        "isotope_mean = np.mean(oxygen_measurements)\n",
        "isotope_std = np.std(oxygen_measurements)\n",
        "print(isotope_mean,isotope_std, isoscape_mean, isoscape_std)\n",
        "\n"
      ],
      "metadata": {
        "colab": {
          "base_uri": "https://localhost:8080/"
        },
        "id": "tREgKQFdHAaS",
        "outputId": "444a44a1-a842-41cf-d471-9b98b87e9212"
      },
      "execution_count": null,
      "outputs": [
        {
          "output_type": "stream",
          "name": "stdout",
          "text": [
            "33.0 0.816496580927726 43.059565734863284 0.6551787351470115\n"
          ]
        }
      ]
    },
    {
      "cell_type": "markdown",
      "source": [
        "ttest and p-value"
      ],
      "metadata": {
        "id": "UQ6KIx6hN8R2"
      }
    },
    {
      "cell_type": "code",
      "source": [
        "_, p_value_oxygen = scipy.stats.ttest_ind_from_stats(\n",
        "            isotope_mean, isotope_std, len(oxygen_measurements), isoscape_mean, isoscape_std, 30, equal_var=False, alternative=\"two-sided\")"
      ],
      "metadata": {
        "id": "swXenCClN_b3"
      },
      "execution_count": null,
      "outputs": []
    },
    {
      "cell_type": "markdown",
      "source": [
        "**Carbon**"
      ],
      "metadata": {
        "id": "L39XRh5EVFoB"
      }
    },
    {
      "cell_type": "markdown",
      "source": [
        "Isoscape"
      ],
      "metadata": {
        "id": "EoXKxnEQVOjL"
      }
    },
    {
      "cell_type": "code",
      "source": [
        "###DELETE\n",
        "carbon_means_iso = oxygen_means_iso\n",
        "carbon_variances_iso = oxygen_variances_iso\n",
        "#delete\n",
        "isoscape_mean = carbon_means_iso.reduceRegion(\n",
        "  reducer = ee.Reducer.mean(),\n",
        "  geometry = poi,\n",
        "  scale = 30).getInfo().get('b1');\n",
        "isoscape_var = oxygen_variances_iso.reduceRegion(\n",
        "  reducer = ee.Reducer.mean(),\n",
        "  geometry = poi,\n",
        "  scale = 30).getInfo().get('b1');\n",
        "if isoscape_var is not None:\n",
        "  isoscape_std = np.sqrt(isoscape_var)\n",
        "else:\n",
        "  isoscape_std = 0\n"
      ],
      "metadata": {
        "id": "VOQhS8GxVTao"
      },
      "execution_count": null,
      "outputs": []
    },
    {
      "cell_type": "markdown",
      "source": [
        "Isotope calculation"
      ],
      "metadata": {
        "id": "_14AQ8fNdn0U"
      }
    },
    {
      "cell_type": "code",
      "source": [
        "isotope_mean = np.mean(carbon_measurements)\n",
        "isotope_std = np.std(carbon_measurements)\n",
        "print(isotope_mean,isotope_std, isoscape_mean, isoscape_std)\n",
        "\n"
      ],
      "metadata": {
        "outputId": "24390939-32a4-4c1f-f050-53871578c0eb",
        "colab": {
          "base_uri": "https://localhost:8080/"
        },
        "id": "AGPSrytsdn0f"
      },
      "execution_count": null,
      "outputs": [
        {
          "output_type": "stream",
          "name": "stdout",
          "text": [
            "-21.333333333333332 1.247219128924647 43.059565734863284 0.6551787351470115\n"
          ]
        }
      ]
    },
    {
      "cell_type": "markdown",
      "source": [
        "ttest and p-value"
      ],
      "metadata": {
        "id": "QkeKwSg8dn0f"
      }
    },
    {
      "cell_type": "code",
      "source": [
        "_, p_value_carbon = scipy.stats.ttest_ind_from_stats(\n",
        "            isotope_mean, isotope_std, len(carbon_measurements), isoscape_mean, isoscape_std, 30, equal_var=False, alternative=\"two-sided\")"
      ],
      "metadata": {
        "id": "00QrbXVedn0f"
      },
      "execution_count": null,
      "outputs": []
    },
    {
      "cell_type": "markdown",
      "source": [
        "**Nitrogen**"
      ],
      "metadata": {
        "id": "r51E7T9GeTib"
      }
    },
    {
      "cell_type": "markdown",
      "source": [
        "Isoscape"
      ],
      "metadata": {
        "id": "BtvIkpUqeTib"
      }
    },
    {
      "cell_type": "code",
      "source": [
        "isoscape_mean = nitrogen_means_iso.reduceRegion(\n",
        "  reducer = ee.Reducer.mean(),\n",
        "  geometry = poi,\n",
        "  scale = 30).getInfo().get('b1');\n",
        "isoscape_var = nitrogen_variances_iso.reduceRegion(\n",
        "  reducer = ee.Reducer.mean(),\n",
        "  geometry = poi,\n",
        "  scale = 30).getInfo().get('b1');\n",
        "if isoscape_var is not None:\n",
        "  isoscape_std = np.sqrt(isoscape_var)\n",
        "else:\n",
        "  isoscape_std = 0"
      ],
      "metadata": {
        "id": "rmL1qSf_eTic"
      },
      "execution_count": null,
      "outputs": []
    },
    {
      "cell_type": "markdown",
      "source": [
        "Isotope calculation"
      ],
      "metadata": {
        "id": "MZRIa-MTeTic"
      }
    },
    {
      "cell_type": "code",
      "source": [
        "isotope_mean = np.mean(nitrogen_measurements)\n",
        "isotope_std = np.std(nitrogen_measurements)\n",
        "print(isotope_mean,isotope_std, isoscape_mean, isoscape_std)\n",
        "\n"
      ],
      "metadata": {
        "outputId": "701d5561-d07d-4a6d-c9cd-ccb51a6058b7",
        "colab": {
          "base_uri": "https://localhost:8080/"
        },
        "id": "BstXUs77eTij"
      },
      "execution_count": null,
      "outputs": [
        {
          "output_type": "stream",
          "name": "stdout",
          "text": [
            "23.0 0.816496580927726 10.94708251953125 1.6114730492355358\n"
          ]
        }
      ]
    },
    {
      "cell_type": "markdown",
      "source": [
        "ttest and p-value"
      ],
      "metadata": {
        "id": "iEo3ZvCCeTik"
      }
    },
    {
      "cell_type": "code",
      "source": [
        "_, p_value_nitrogen = scipy.stats.ttest_ind_from_stats(\n",
        "            isotope_mean, isotope_std, len(nitrogen_measurements), isoscape_mean, isoscape_std, 30, equal_var=False, alternative=\"two-sided\")"
      ],
      "metadata": {
        "id": "e6aed0l7eTik"
      },
      "execution_count": null,
      "outputs": []
    },
    {
      "cell_type": "markdown",
      "source": [
        "Origin Verification"
      ],
      "metadata": {
        "id": "cx8dU5mPe1M8"
      }
    },
    {
      "cell_type": "code",
      "source": [
        "origin_validity = p_value_oxygen * p_value_carbon * p_value_nitrogen"
      ],
      "metadata": {
        "id": "TY7PeRSbe6ZW"
      },
      "execution_count": null,
      "outputs": []
    }
  ]
}