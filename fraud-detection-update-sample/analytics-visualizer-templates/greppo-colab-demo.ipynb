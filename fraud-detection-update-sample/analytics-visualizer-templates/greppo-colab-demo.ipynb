{
  "cells": [
    {
      "cell_type": "code",
      "execution_count": null,
      "metadata": {
        "id": "3AdfBMcGXoeo"
      },
      "outputs": [],
      "source": [
        "! pip install earthengine-api greppo\n",
        "! npm install -g localtunnel"
      ]
    },
    {
      "cell_type": "code",
      "execution_count": null,
      "metadata": {
        "id": "ujVRS9ETXu3o"
      },
      "outputs": [],
      "source": [
        "from greppo import app\n",
        "import google\n",
        "import ee\n",
        "from google.colab import auth\n",
        "\n",
        "auth.authenticate_user()\n",
        "\n",
        "credentials, project_id = google.auth.default()\n",
        "ee.Initialize(credentials, project='river-sky-386919')\n",
        "\n",
        "# Select the satellite dataset from the catalog\n",
        "dem = ee.Image('USGS/SRTMGL1_003')\n",
        "\n",
        "# Process it\n",
        "ee_dem = dem.updateMask(dem.gt(0))\n",
        "\n",
        "# Provide visualisation parameters\n",
        "vis_params = {\n",
        "    'min': 0,\n",
        "    'max': 4000,\n",
        "    'palette': ['006633', 'E5FFCC', '662A00', 'D8D8D8', 'F5F5F5']}\n",
        "\n",
        "app.ee_layer(ee_object=ee_dem, vis_params=vis_params, name='DEM',\n",
        "             description='World Digital Elevation Map from GEE')\n"
      ]
    },
    {
      "cell_type": "markdown",
      "metadata": {
        "id": "SStPUuCR2OWs"
      },
      "source": [
        "Now open the terminal (lower left and corner in colab) and run:\n",
        "\n",
        "`greppo serve --port=8888 greppo.py`\n",
        "\n",
        "Then run the `localtunnel` (`lt`) below to make it externally accessible."
      ]
    },
    {
      "cell_type": "code",
      "execution_count": null,
      "metadata": {
        "id": "NK0OJ_krla5_"
      },
      "outputs": [],
      "source": [
        "!curl ipv4.icanhazip.com\n",
        "!lt --port 8888"
      ]
    }
  ],
  "metadata": {
    "colab": {
      "provenance": []
    },
    "kernelspec": {
      "display_name": "Python 3",
      "name": "python3"
    },
    "language_info": {
      "name": "python"
    }
  },
  "nbformat": 4,
  "nbformat_minor": 0
}
